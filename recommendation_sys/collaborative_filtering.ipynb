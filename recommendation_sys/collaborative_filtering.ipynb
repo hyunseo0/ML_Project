{
 "cells": [
  {
   "cell_type": "code",
   "execution_count": 99,
   "metadata": {},
   "outputs": [],
   "source": [
    "# Import functions.\n",
    "import pandas as pd\n",
    "import numpy as np\n",
    "from sklearn.decomposition import TruncatedSVD\n",
    "from scipy.sparse.linalg import svds\n",
    "from sklearn.preprocessing import LabelEncoder"
   ]
  },
  {
   "cell_type": "code",
   "execution_count": 100,
   "metadata": {},
   "outputs": [],
   "source": [
    "# Import dataset\n",
    "df = pd.read_csv('analyze.csv')"
   ]
  },
  {
   "cell_type": "code",
   "execution_count": 101,
   "metadata": {},
   "outputs": [],
   "source": [
    "def collaborative_item(dataset):\n",
    "    df_pod = dataset[['id','title', 'language', 'category', 'subcategory', 'rating']]\n",
    "    df_pod_test = df_pod[0:10000]\n",
    "\n",
    "    pod_rating = df_pod_test.pivot_table('rating', index = 'id', columns='title').fillna(0)\n",
    "    pod_value = pod_rating.values.T\n",
    "    \n",
    "    SVD = TruncatedSVD(n_components=12)\n",
    "    matrix = SVD.fit_transform(pod_value)\n",
    "    corr = np.corrcoef(matrix)\n",
    "    title = pod_rating.columns\n",
    "    title_list = list(title)\n",
    "    \n",
    "    return title, corr, title_list\n",
    "    "
   ]
  },
  {
   "cell_type": "code",
   "execution_count": 102,
   "metadata": {},
   "outputs": [],
   "source": [
    "def collaborative_recommend(title_column, corr, title_list, title):\n",
    "    coffey_hands = title_list.index(title)\n",
    "    corr_coffey_hands  = corr[coffey_hands]\n",
    "    result = list(title_column[(corr_coffey_hands >= 0.85)])[:10]\n",
    "    print(coffey_hands)\n",
    "    return result"
   ]
  },
  {
   "cell_type": "code",
   "execution_count": 104,
   "metadata": {},
   "outputs": [],
   "source": [
    "def collaborative_author_based(dataset):\n",
    "    # Make new dataset by select features of rating and other else.\n",
    "    df_pod_rate = dataset[['author', 'id','created_at', 'rating']]\n",
    "    df_pod_list1 = dataset[['id','title', 'language', 'category']]\n",
    "    df_pod_list1 = df_pod_list1[0:7000]\n",
    "    df_pod_rate = df_pod_rate[0:7000]\n",
    "    \n",
    "    # Encoding author and id\n",
    "    encoder = LabelEncoder()\n",
    "    label = encoder.fit_transform(df_pod_rate['author'])\n",
    "    label1 = encoder.fit_transform(df_pod_list1['id'])\n",
    "    new = pd.DataFrame(label, columns = ['author'])\n",
    "    new1 = pd.DataFrame(label1, columns = ['id'])\n",
    "\n",
    "    # Make new dataset by encoding features.\n",
    "    df_pod_rate = df_pod_rate.drop(['author', 'id'], axis = 1)\n",
    "    df_pod_list_drop = df_pod_list1.drop(['id'], axis = 1)\n",
    "\n",
    "    df_pod_rating = pd.concat([new1, new, df_pod_rate], axis=1)\n",
    "    df_pod_list = pd.concat([new, df_pod_list_drop], axis=1)\n",
    "\n",
    "    # Make new pivot table by id, author, rating.\n",
    "    pod_rating_matrix = df_pod_rating.pivot(\n",
    "        index='id',\n",
    "        columns='author',\n",
    "        values='rating'\n",
    "    ).fillna(0)\n",
    "\n",
    "    # Make matrix and caulate user rating mean.\n",
    "    # Also calculate user rating minus rating mean.\n",
    "    matrix = pod_rating_matrix.values\n",
    "    user_ratings_mean = np.mean(matrix, axis = 1)\n",
    "    matrix_user_mean = matrix - user_ratings_mean.reshape(-1, 1)\n",
    "\n",
    "   \n",
    "    # Calculate U, sigma, V matrix by using SVD method of matrix factorization.\n",
    "    U, sigma, Vt = svds(matrix_user_mean, k = 12)\n",
    "    sigma = np.diag(sigma)\n",
    "\n",
    "    # Restore original matrix and apply user podcast rating.\n",
    "    svd_user_predicted_ratings = np.dot(np.dot(U, sigma), Vt) + user_ratings_mean.reshape(-1, 1)\n",
    "\n",
    "    # Make dataet of matrix and rating column\n",
    "    df_svd_preds = pd.DataFrame(svd_user_predicted_ratings, columns = pod_rating_matrix.columns)\n",
    "\n",
    "    return df_svd_preds, df_pod_list, df_pod_rating\n"
   ]
  },
  {
   "cell_type": "code",
   "execution_count": 105,
   "metadata": {},
   "outputs": [],
   "source": [
    "def recommend_movies(df_svd_preds, author_id, pod_df, pod_rate_df, num_recommendations=5):\n",
    "    #Check user id and sort by svd_pred\n",
    "    user_row_number = author_id - 1 \n",
    "    sorted_user_predictions = df_svd_preds.iloc[user_row_number].sort_values(ascending=False)\n",
    "    user_data = pod_rate_df[pod_rate_df.id == author_id] \n",
    "    # Get dataset about user history by author\n",
    "    user_history = user_data.merge(pod_df, on = 'author').sort_values(['rating'], ascending=False)\n",
    "    #Get recommendation by author.\n",
    "    recommendations = pod_df[~pod_df['author'].isin(user_history['author'])]\n",
    "    recommendations = recommendations.merge(pd.DataFrame(sorted_user_predictions).reset_index(), on = 'author')\n",
    "    recommendations = recommendations.rename(columns = {user_row_number: 'Predictions'}).sort_values('Predictions', ascending = False).iloc[:num_recommendations, :]        \n",
    "    return user_history, recommendations"
   ]
  },
  {
   "cell_type": "code",
   "execution_count": 106,
   "metadata": {},
   "outputs": [],
   "source": [
    "def collaborative_main_func1(dataset, title, id, max_print_list, boolean_type):\n",
    "    if boolean_type == 'title':    \n",
    "        title_column, corr, title_list = collaborative_item(dataset)\n",
    "        result = collaborative_recommend(title_column, corr, title_list, title)\n",
    "        return result\n",
    "    else:\n",
    "        df_svd_preds, df_pod_list, df_pod_rating = collaborative_author_based(dataset)\n",
    "        rated, predictions = recommend_movies(df_svd_preds, id, df_pod_list, df_pod_rating, max_print_list)\n",
    "        rated = rated.drop(rated[rated['title'].str.contains('NaN', na=True)].index)\n",
    "        rated = rated.drop(rated[rated['category'].str.contains('NaN', na=True)].index)\n",
    "        predictions = predictions.drop(predictions[predictions['title'].str.contains('NaN', na=True)].index)\n",
    "        predictions = predictions.drop(predictions[predictions['category'].str.contains('NaN', na=True)].index) \n",
    "        return rated, predictions"
   ]
  },
  {
   "cell_type": "code",
   "execution_count": 108,
   "metadata": {},
   "outputs": [
    {
     "name": "stdout",
     "output_type": "stream",
     "text": [
      "7495\n"
     ]
    },
    {
     "data": {
      "text/plain": [
       "['(HD) Wasatch Mountain Podcast',\n",
       " 'Classical Gasp with Duke Pesta',\n",
       " 'CogKNITive Podcast',\n",
       " 'Deep House Episodes',\n",
       " 'Desert Island Discs',\n",
       " 'Down Memory Lane',\n",
       " 'Guilty Pleasures Podcast',\n",
       " \"Insight for Living's Reframing Ministries Interviews\",\n",
       " 'Inspiring Innovation Podcast - Entrepreneur Success Stories, Case Studies, Lessons and Lifestyle Weekly',\n",
       " 'Jones & Bartlett Learning - Health']"
      ]
     },
     "execution_count": 108,
     "metadata": {},
     "output_type": "execute_result"
    }
   ],
   "source": [
    "result = collaborative_main_func1(df, \"The Kyle Warren Radio Show\", 3941, 10, 'title')\n",
    "result"
   ]
  },
  {
   "cell_type": "code",
   "execution_count": 109,
   "metadata": {},
   "outputs": [],
   "source": [
    "rated, predictions = collaborative_main_func1(df, \"The Kyle Warren Radio Show\", 3941, 10, 'id')"
   ]
  },
  {
   "cell_type": "code",
   "execution_count": 110,
   "metadata": {},
   "outputs": [
    {
     "data": {
      "text/html": [
       "<div>\n",
       "<style scoped>\n",
       "    .dataframe tbody tr th:only-of-type {\n",
       "        vertical-align: middle;\n",
       "    }\n",
       "\n",
       "    .dataframe tbody tr th {\n",
       "        vertical-align: top;\n",
       "    }\n",
       "\n",
       "    .dataframe thead th {\n",
       "        text-align: right;\n",
       "    }\n",
       "</style>\n",
       "<table border=\"1\" class=\"dataframe\">\n",
       "  <thead>\n",
       "    <tr style=\"text-align: right;\">\n",
       "      <th></th>\n",
       "      <th>id</th>\n",
       "      <th>author</th>\n",
       "      <th>created_at</th>\n",
       "      <th>rating</th>\n",
       "      <th>title</th>\n",
       "      <th>language</th>\n",
       "      <th>category</th>\n",
       "    </tr>\n",
       "  </thead>\n",
       "  <tbody>\n",
       "    <tr>\n",
       "      <th>0</th>\n",
       "      <td>3941</td>\n",
       "      <td>4567</td>\n",
       "      <td>2016-11-27T04:40:40</td>\n",
       "      <td>4</td>\n",
       "      <td>The Readers</td>\n",
       "      <td>en-us</td>\n",
       "      <td>Arts/Literature</td>\n",
       "    </tr>\n",
       "  </tbody>\n",
       "</table>\n",
       "</div>"
      ],
      "text/plain": [
       "     id  author           created_at  rating        title language  \\\n",
       "0  3941    4567  2016-11-27T04:40:40       4  The Readers    en-us   \n",
       "\n",
       "          category  \n",
       "0  Arts/Literature  "
      ]
     },
     "execution_count": 110,
     "metadata": {},
     "output_type": "execute_result"
    }
   ],
   "source": [
    "rated"
   ]
  },
  {
   "cell_type": "code",
   "execution_count": 111,
   "metadata": {},
   "outputs": [
    {
     "data": {
      "text/html": [
       "<div>\n",
       "<style scoped>\n",
       "    .dataframe tbody tr th:only-of-type {\n",
       "        vertical-align: middle;\n",
       "    }\n",
       "\n",
       "    .dataframe tbody tr th {\n",
       "        vertical-align: top;\n",
       "    }\n",
       "\n",
       "    .dataframe thead th {\n",
       "        text-align: right;\n",
       "    }\n",
       "</style>\n",
       "<table border=\"1\" class=\"dataframe\">\n",
       "  <thead>\n",
       "    <tr style=\"text-align: right;\">\n",
       "      <th></th>\n",
       "      <th>author</th>\n",
       "      <th>title</th>\n",
       "      <th>language</th>\n",
       "      <th>category</th>\n",
       "      <th>Predictions</th>\n",
       "    </tr>\n",
       "  </thead>\n",
       "  <tbody>\n",
       "    <tr>\n",
       "      <th>678</th>\n",
       "      <td>5007</td>\n",
       "      <td>WDR 2 Quintessenz</td>\n",
       "      <td>de</td>\n",
       "      <td>Business</td>\n",
       "      <td>0.000372</td>\n",
       "    </tr>\n",
       "    <tr>\n",
       "      <th>679</th>\n",
       "      <td>5007</td>\n",
       "      <td>WDR 2 Kritiker</td>\n",
       "      <td>de</td>\n",
       "      <td>Arts</td>\n",
       "      <td>0.000372</td>\n",
       "    </tr>\n",
       "    <tr>\n",
       "      <th>674</th>\n",
       "      <td>5007</td>\n",
       "      <td>Funkhaus Europa Radio Colonia</td>\n",
       "      <td>de</td>\n",
       "      <td>Society &amp; Culture</td>\n",
       "      <td>0.000372</td>\n",
       "    </tr>\n",
       "    <tr>\n",
       "      <th>672</th>\n",
       "      <td>5007</td>\n",
       "      <td>Funkhaus Europa Radio Forum</td>\n",
       "      <td>de</td>\n",
       "      <td>Society &amp; Culture</td>\n",
       "      <td>0.000372</td>\n",
       "    </tr>\n",
       "    <tr>\n",
       "      <th>675</th>\n",
       "      <td>5007</td>\n",
       "      <td>WDR Lebenszeichen</td>\n",
       "      <td>de</td>\n",
       "      <td>Religion &amp; Spirituality</td>\n",
       "      <td>0.000372</td>\n",
       "    </tr>\n",
       "  </tbody>\n",
       "</table>\n",
       "</div>"
      ],
      "text/plain": [
       "     author                          title language                 category  \\\n",
       "678    5007              WDR 2 Quintessenz       de                 Business   \n",
       "679    5007                 WDR 2 Kritiker       de                     Arts   \n",
       "674    5007  Funkhaus Europa Radio Colonia       de        Society & Culture   \n",
       "672    5007    Funkhaus Europa Radio Forum       de        Society & Culture   \n",
       "675    5007              WDR Lebenszeichen       de  Religion & Spirituality   \n",
       "\n",
       "     Predictions  \n",
       "678     0.000372  \n",
       "679     0.000372  \n",
       "674     0.000372  \n",
       "672     0.000372  \n",
       "675     0.000372  "
      ]
     },
     "execution_count": 111,
     "metadata": {},
     "output_type": "execute_result"
    }
   ],
   "source": [
    "predictions\n"
   ]
  }
 ],
 "metadata": {
  "kernelspec": {
   "display_name": "Python 3.9.7 ('base')",
   "language": "python",
   "name": "python3"
  },
  "language_info": {
   "codemirror_mode": {
    "name": "ipython",
    "version": 3
   },
   "file_extension": ".py",
   "mimetype": "text/x-python",
   "name": "python",
   "nbconvert_exporter": "python",
   "pygments_lexer": "ipython3",
   "version": "3.9.7"
  },
  "orig_nbformat": 4,
  "vscode": {
   "interpreter": {
    "hash": "f08154012ddadd8e950e6e9e035c7a7b32c136e7647e9b7c77e02eb723a8bedb"
   }
  }
 },
 "nbformat": 4,
 "nbformat_minor": 2
}
