{
 "cells": [
  {
   "cell_type": "code",
   "execution_count": 8,
   "metadata": {},
   "outputs": [],
   "source": [
    "import pandas as pd\n",
    "import matplotlib.pyplot as plt\n",
    "import seaborn as sns\n",
    "from sklearn.preprocessing import LabelEncoder\n",
    "from sklearn.metrics.pairwise import linear_kernel\n",
    "from sklearn.feature_extraction.text import TfidfVectorizer\n",
    "from sklearn.feature_extraction.text import CountVectorizer\n",
    "from sklearn.metrics.pairwise import cosine_similarity\n"
   ]
  },
  {
   "cell_type": "code",
   "execution_count": 9,
   "metadata": {},
   "outputs": [
    {
     "data": {
      "text/html": [
       "<div>\n",
       "<style scoped>\n",
       "    .dataframe tbody tr th:only-of-type {\n",
       "        vertical-align: middle;\n",
       "    }\n",
       "\n",
       "    .dataframe tbody tr th {\n",
       "        vertical-align: top;\n",
       "    }\n",
       "\n",
       "    .dataframe thead th {\n",
       "        text-align: right;\n",
       "    }\n",
       "</style>\n",
       "<table border=\"1\" class=\"dataframe\">\n",
       "  <thead>\n",
       "    <tr style=\"text-align: right;\">\n",
       "      <th></th>\n",
       "      <th>Unnamed: 0</th>\n",
       "      <th>id</th>\n",
       "      <th>feed_url</th>\n",
       "      <th>title</th>\n",
       "      <th>subtitle</th>\n",
       "      <th>description</th>\n",
       "      <th>summary</th>\n",
       "      <th>author</th>\n",
       "      <th>email</th>\n",
       "      <th>link</th>\n",
       "      <th>language</th>\n",
       "      <th>explicit</th>\n",
       "      <th>image</th>\n",
       "      <th>category</th>\n",
       "      <th>subcategory</th>\n",
       "      <th>created_at</th>\n",
       "      <th>last_build_date</th>\n",
       "      <th>rating</th>\n",
       "    </tr>\n",
       "  </thead>\n",
       "  <tbody>\n",
       "    <tr>\n",
       "      <th>0</th>\n",
       "      <td>0</td>\n",
       "      <td>0002da5f-49a2-31ba-b44c-cdeabdf113cb</td>\n",
       "      <td>http://www.cbc.ca/podcasting/includes/dispatch...</td>\n",
       "      <td>Dispatches from CBC Radio</td>\n",
       "      <td>NaN</td>\n",
       "      <td>CBC Radio's Dispatches host Rick MacInnes-Rae ...</td>\n",
       "      <td>CBC Radio's Dispatches host Rick MacInnes-Rae ...</td>\n",
       "      <td>CBC Radio</td>\n",
       "      <td>podcasting@cbc.ca</td>\n",
       "      <td>http://www.cbc.ca/podcasting</td>\n",
       "      <td>en-ca</td>\n",
       "      <td>0</td>\n",
       "      <td>http://www.cbc.ca/podcasting/images/promo-disp...</td>\n",
       "      <td>News &amp; Politics</td>\n",
       "      <td>Public Radio</td>\n",
       "      <td>2016-11-27T03:15:54</td>\n",
       "      <td>2016-11-27T03:15:54</td>\n",
       "      <td>2</td>\n",
       "    </tr>\n",
       "    <tr>\n",
       "      <th>1</th>\n",
       "      <td>1</td>\n",
       "      <td>00044845-beb8-35f3-99e2-01dbcfb6eb63</td>\n",
       "      <td>http://everydayissaturday.com/feed/podcast/</td>\n",
       "      <td>Motivation | Inspiration| Success with Entrepr...</td>\n",
       "      <td>Motivation - Inspiration - Success - Mindset -...</td>\n",
       "      <td>Sam Crowley delivers million dollar motivation...</td>\n",
       "      <td>Sam Crowley delivers million dollar motivation...</td>\n",
       "      <td>Sam Crowley</td>\n",
       "      <td>sam@everydayissaturday.com</td>\n",
       "      <td>http://everydayissaturday.com</td>\n",
       "      <td>en-us</td>\n",
       "      <td>0</td>\n",
       "      <td>http://everydayissaturday.com/wp-content/uploa...</td>\n",
       "      <td>Business</td>\n",
       "      <td>Business</td>\n",
       "      <td>2016-11-26T19:11:59</td>\n",
       "      <td>2016-11-21T14:19:34</td>\n",
       "      <td>2</td>\n",
       "    </tr>\n",
       "    <tr>\n",
       "      <th>2</th>\n",
       "      <td>2</td>\n",
       "      <td>00048bfa-8363-3f10-ac8e-8f27a31fe11f</td>\n",
       "      <td>http://disability411.jinkle.com/disability411.xml</td>\n",
       "      <td>Disability411 Podcast</td>\n",
       "      <td>NaN</td>\n",
       "      <td>Disability411 - The Podcast for Disability Inf...</td>\n",
       "      <td>NaN</td>\n",
       "      <td>Beth Case</td>\n",
       "      <td>NaN</td>\n",
       "      <td>http://disability411.jinkle.com/</td>\n",
       "      <td>en-us</td>\n",
       "      <td>0</td>\n",
       "      <td>NaN</td>\n",
       "      <td>Government &amp; Organizations</td>\n",
       "      <td>Business</td>\n",
       "      <td>2016-11-27T00:37:30</td>\n",
       "      <td>2016-11-27T00:37:30</td>\n",
       "      <td>3</td>\n",
       "    </tr>\n",
       "  </tbody>\n",
       "</table>\n",
       "</div>"
      ],
      "text/plain": [
       "   Unnamed: 0                                    id  \\\n",
       "0           0  0002da5f-49a2-31ba-b44c-cdeabdf113cb   \n",
       "1           1  00044845-beb8-35f3-99e2-01dbcfb6eb63   \n",
       "2           2  00048bfa-8363-3f10-ac8e-8f27a31fe11f   \n",
       "\n",
       "                                            feed_url  \\\n",
       "0  http://www.cbc.ca/podcasting/includes/dispatch...   \n",
       "1        http://everydayissaturday.com/feed/podcast/   \n",
       "2  http://disability411.jinkle.com/disability411.xml   \n",
       "\n",
       "                                               title  \\\n",
       "0                          Dispatches from CBC Radio   \n",
       "1  Motivation | Inspiration| Success with Entrepr...   \n",
       "2                              Disability411 Podcast   \n",
       "\n",
       "                                            subtitle  \\\n",
       "0                                                NaN   \n",
       "1  Motivation - Inspiration - Success - Mindset -...   \n",
       "2                                                NaN   \n",
       "\n",
       "                                         description  \\\n",
       "0  CBC Radio's Dispatches host Rick MacInnes-Rae ...   \n",
       "1  Sam Crowley delivers million dollar motivation...   \n",
       "2  Disability411 - The Podcast for Disability Inf...   \n",
       "\n",
       "                                             summary       author  \\\n",
       "0  CBC Radio's Dispatches host Rick MacInnes-Rae ...    CBC Radio   \n",
       "1  Sam Crowley delivers million dollar motivation...  Sam Crowley   \n",
       "2                                                NaN    Beth Case   \n",
       "\n",
       "                        email                              link language  \\\n",
       "0           podcasting@cbc.ca      http://www.cbc.ca/podcasting    en-ca   \n",
       "1  sam@everydayissaturday.com     http://everydayissaturday.com    en-us   \n",
       "2                         NaN  http://disability411.jinkle.com/    en-us   \n",
       "\n",
       "   explicit                                              image  \\\n",
       "0         0  http://www.cbc.ca/podcasting/images/promo-disp...   \n",
       "1         0  http://everydayissaturday.com/wp-content/uploa...   \n",
       "2         0                                                NaN   \n",
       "\n",
       "                     category   subcategory           created_at  \\\n",
       "0             News & Politics  Public Radio  2016-11-27T03:15:54   \n",
       "1                    Business      Business  2016-11-26T19:11:59   \n",
       "2  Government & Organizations      Business  2016-11-27T00:37:30   \n",
       "\n",
       "       last_build_date  rating  \n",
       "0  2016-11-27T03:15:54       2  \n",
       "1  2016-11-21T14:19:34       2  \n",
       "2  2016-11-27T00:37:30       3  "
      ]
     },
     "execution_count": 9,
     "metadata": {},
     "output_type": "execute_result"
    }
   ],
   "source": [
    "# Import dataset\n",
    "df = pd.read_csv('analyze.csv')\n",
    "df.head(3)"
   ]
  },
  {
   "cell_type": "code",
   "execution_count": 10,
   "metadata": {},
   "outputs": [
    {
     "name": "stdout",
     "output_type": "stream",
     "text": [
      "<class 'pandas.core.frame.DataFrame'>\n",
      "RangeIndex: 32832 entries, 0 to 32831\n",
      "Data columns (total 18 columns):\n",
      " #   Column           Non-Null Count  Dtype \n",
      "---  ------           --------------  ----- \n",
      " 0   Unnamed: 0       32832 non-null  int64 \n",
      " 1   id               32832 non-null  object\n",
      " 2   feed_url         32832 non-null  object\n",
      " 3   title            31524 non-null  object\n",
      " 4   subtitle         26086 non-null  object\n",
      " 5   description      30082 non-null  object\n",
      " 6   summary          27287 non-null  object\n",
      " 7   author           30120 non-null  object\n",
      " 8   email            27256 non-null  object\n",
      " 9   link             15358 non-null  object\n",
      " 10  language         32479 non-null  object\n",
      " 11  explicit         32832 non-null  int64 \n",
      " 12  image            30471 non-null  object\n",
      " 13  category         30409 non-null  object\n",
      " 14  subcategory      19473 non-null  object\n",
      " 15  created_at       32832 non-null  object\n",
      " 16  last_build_date  32832 non-null  object\n",
      " 17  rating           32832 non-null  int64 \n",
      "dtypes: int64(3), object(15)\n",
      "memory usage: 4.5+ MB\n",
      "None\n"
     ]
    }
   ],
   "source": [
    "# Exploring Data\n",
    "print(df.info())"
   ]
  },
  {
   "cell_type": "code",
   "execution_count": 11,
   "metadata": {},
   "outputs": [
    {
     "name": "stdout",
     "output_type": "stream",
     "text": [
      "(32832, 18)\n",
      "Unnamed: 0          int64\n",
      "id                 object\n",
      "feed_url           object\n",
      "title              object\n",
      "subtitle           object\n",
      "description        object\n",
      "summary            object\n",
      "author             object\n",
      "email              object\n",
      "link               object\n",
      "language           object\n",
      "explicit            int64\n",
      "image              object\n",
      "category           object\n",
      "subcategory        object\n",
      "created_at         object\n",
      "last_build_date    object\n",
      "rating              int64\n",
      "dtype: object\n"
     ]
    }
   ],
   "source": [
    "print(df.shape)\n",
    "print(df.dtypes)"
   ]
  },
  {
   "cell_type": "code",
   "execution_count": 12,
   "metadata": {},
   "outputs": [
    {
     "data": {
      "text/html": [
       "<div>\n",
       "<style scoped>\n",
       "    .dataframe tbody tr th:only-of-type {\n",
       "        vertical-align: middle;\n",
       "    }\n",
       "\n",
       "    .dataframe tbody tr th {\n",
       "        vertical-align: top;\n",
       "    }\n",
       "\n",
       "    .dataframe thead th {\n",
       "        text-align: right;\n",
       "    }\n",
       "</style>\n",
       "<table border=\"1\" class=\"dataframe\">\n",
       "  <thead>\n",
       "    <tr style=\"text-align: right;\">\n",
       "      <th></th>\n",
       "      <th>Unnamed: 0</th>\n",
       "      <th>explicit</th>\n",
       "      <th>rating</th>\n",
       "    </tr>\n",
       "  </thead>\n",
       "  <tbody>\n",
       "    <tr>\n",
       "      <th>count</th>\n",
       "      <td>32832.000000</td>\n",
       "      <td>32832.000000</td>\n",
       "      <td>32832.000000</td>\n",
       "    </tr>\n",
       "    <tr>\n",
       "      <th>mean</th>\n",
       "      <td>16415.500000</td>\n",
       "      <td>0.093202</td>\n",
       "      <td>2.990619</td>\n",
       "    </tr>\n",
       "    <tr>\n",
       "      <th>std</th>\n",
       "      <td>9477.926355</td>\n",
       "      <td>0.290719</td>\n",
       "      <td>1.418548</td>\n",
       "    </tr>\n",
       "    <tr>\n",
       "      <th>min</th>\n",
       "      <td>0.000000</td>\n",
       "      <td>0.000000</td>\n",
       "      <td>1.000000</td>\n",
       "    </tr>\n",
       "    <tr>\n",
       "      <th>25%</th>\n",
       "      <td>8207.750000</td>\n",
       "      <td>0.000000</td>\n",
       "      <td>2.000000</td>\n",
       "    </tr>\n",
       "    <tr>\n",
       "      <th>50%</th>\n",
       "      <td>16415.500000</td>\n",
       "      <td>0.000000</td>\n",
       "      <td>3.000000</td>\n",
       "    </tr>\n",
       "    <tr>\n",
       "      <th>75%</th>\n",
       "      <td>24623.250000</td>\n",
       "      <td>0.000000</td>\n",
       "      <td>4.000000</td>\n",
       "    </tr>\n",
       "    <tr>\n",
       "      <th>max</th>\n",
       "      <td>32831.000000</td>\n",
       "      <td>1.000000</td>\n",
       "      <td>5.000000</td>\n",
       "    </tr>\n",
       "  </tbody>\n",
       "</table>\n",
       "</div>"
      ],
      "text/plain": [
       "         Unnamed: 0      explicit        rating\n",
       "count  32832.000000  32832.000000  32832.000000\n",
       "mean   16415.500000      0.093202      2.990619\n",
       "std     9477.926355      0.290719      1.418548\n",
       "min        0.000000      0.000000      1.000000\n",
       "25%     8207.750000      0.000000      2.000000\n",
       "50%    16415.500000      0.000000      3.000000\n",
       "75%    24623.250000      0.000000      4.000000\n",
       "max    32831.000000      1.000000      5.000000"
      ]
     },
     "execution_count": 12,
     "metadata": {},
     "output_type": "execute_result"
    }
   ],
   "source": [
    "df.describe()"
   ]
  },
  {
   "cell_type": "code",
   "execution_count": 13,
   "metadata": {},
   "outputs": [
    {
     "data": {
      "text/plain": [
       "Unnamed: 0         32832\n",
       "id                 32832\n",
       "feed_url           32832\n",
       "title              31524\n",
       "subtitle           26086\n",
       "description        30082\n",
       "summary            27287\n",
       "author             30120\n",
       "email              27256\n",
       "link               15358\n",
       "language           32479\n",
       "explicit           32832\n",
       "image              30471\n",
       "category           30409\n",
       "subcategory        19473\n",
       "created_at         32832\n",
       "last_build_date    32832\n",
       "rating             32832\n",
       "dtype: int64"
      ]
     },
     "execution_count": 13,
     "metadata": {},
     "output_type": "execute_result"
    }
   ],
   "source": [
    "df.count()"
   ]
  },
  {
   "cell_type": "code",
   "execution_count": 14,
   "metadata": {},
   "outputs": [
    {
     "data": {
      "text/plain": [
       "<AxesSubplot:>"
      ]
     },
     "execution_count": 14,
     "metadata": {},
     "output_type": "execute_result"
    },
    {
     "data": {
      "image/png": "[encoded data removed]",
      "text/plain": [
       "<Figure size 360x360 with 2 Axes>"
      ]
     },
     "metadata": {
      "needs_background": "light"
     },
     "output_type": "display_data"
    }
   ],
   "source": [
    "# Check Data correlation Matrix\n",
    "plt.figure(figsize=(5,5))\n",
    "sns.heatmap(data = df.corr(), annot=True, \n",
    "fmt = '.2f', linewidths=.5, cmap='Blues')"
   ]
  },
  {
   "cell_type": "code",
   "execution_count": 15,
   "metadata": {},
   "outputs": [
    {
     "data": {
      "text/plain": [
       "Unnamed: 0             0\n",
       "id                     0\n",
       "feed_url               0\n",
       "title               1308\n",
       "subtitle            6746\n",
       "description         2750\n",
       "summary             5545\n",
       "author              2712\n",
       "email               5576\n",
       "link               17474\n",
       "language             353\n",
       "explicit               0\n",
       "image               2361\n",
       "category            2423\n",
       "subcategory        13359\n",
       "created_at             0\n",
       "last_build_date        0\n",
       "rating                 0\n",
       "dtype: int64"
      ]
     },
     "execution_count": 15,
     "metadata": {},
     "output_type": "execute_result"
    }
   ],
   "source": [
    "# Check data null value\n",
    "df.isnull().sum()"
   ]
  },
  {
   "cell_type": "code",
   "execution_count": 16,
   "metadata": {},
   "outputs": [],
   "source": [
    "# Content Based using tfidf function.\n",
    "def content_based_tfidf(dataset):\n",
    "    # Encoding Data\n",
    "    df_new = dataset[0:10000]\n",
    "    encoder = LabelEncoder()\n",
    "    label = encoder.fit_transform(df['author'])\n",
    "    label1 = encoder.fit_transform(df['id'])\n",
    "    label2 = encoder.fit_transform(df['language'])\n",
    "    new = pd.DataFrame(label, columns = ['author'])\n",
    "    new1 = pd.DataFrame(label1, columns = ['id'])\n",
    "    new2 = pd.DataFrame(label2, columns = ['language'])\n",
    "    new3 = pd.concat([new,new1,new2], axis=1)\n",
    "\n",
    "    # Using TfidfVectorizer and stop_words using English.\n",
    "    tfidf = TfidfVectorizer(stop_words='english')\n",
    "    df_new['description'] = df_new['description'].fillna('')\n",
    "    tfidf_matrix = tfidf.fit_transform(df_new['description'])\n",
    "\n",
    "    # Calculate cosine similarity.\n",
    "    cosine_sim = linear_kernel(tfidf_matrix, tfidf_matrix)\n",
    "\n",
    "    # Construct data using index and title\n",
    "    indices = pd.Series(df_new.index, index=df_new['title']).drop_duplicates()\n",
    "    return df_new, cosine_sim, indices"
   ]
  },
  {
   "cell_type": "code",
   "execution_count": 17,
   "metadata": {},
   "outputs": [],
   "source": [
    "# Recommendation function by title.\n",
    "def recommend_title(title, cosine_sim, indices, df_new):\n",
    "    # Check title that matching with another potcast.\n",
    "    idx = indices[title]\n",
    "\n",
    "    # Get the similarity scores of podcasts.\n",
    "    sim_scores = list(enumerate(cosine_sim[idx]))\n",
    "\n",
    "    # Sort the potcasts by silmilarity score.\n",
    "    sim_scores = sorted(sim_scores, key=lambda x: x[1], reverse=True)\n",
    "\n",
    "    # Get scores of the 10 most similar podcasts\n",
    "    sim_scores = sim_scores[1:11]\n",
    "\n",
    "    # Get the podcasts indices\n",
    "    podcasts_indices = [i[0] for i in sim_scores]\n",
    "\n",
    "    # Return top 10 most similar podcasts\n",
    "    return df_new['title'].iloc[podcasts_indices]"
   ]
  },
  {
   "cell_type": "code",
   "execution_count": 24,
   "metadata": {},
   "outputs": [],
   "source": [
    "# Function of clean dataset.\n",
    "def clean_data(data):\n",
    "    if isinstance(data, list):\n",
    "        return [str.lower(i.replace(\" \", \"\")) for i in data]\n",
    "    else:\n",
    "        # Check if it exists. If it is not, return empty string\n",
    "        if isinstance(data, str):\n",
    "            return str.lower(data.replace(\" \", \"\"))\n",
    "        else:\n",
    "            return ''"
   ]
  },
  {
   "cell_type": "code",
   "execution_count": 25,
   "metadata": {},
   "outputs": [],
   "source": [
    "# Function of Content Based using tfidf, based on category\n",
    "def content_based_category(dataset):\n",
    "    features = ['author', 'author', 'language', 'category', 'subcategory']\n",
    "    df_new1 = dataset\n",
    "    # Apply clean_data function to data features.\n",
    "    for feature in features:\n",
    "        df_new1[feature] = df_new1[feature].apply(clean_data)  \n",
    "\n",
    "    # Create new feature by divide word\n",
    "    def create_newfeat(x):\n",
    "        return  x['author'] + ' ' + x['language'] + ' ' + x['category'] + ' ' + x['subcategory']\n",
    "      \n",
    "    df_new1['newfeat'] = df_new1.apply(create_newfeat, axis=1)\n",
    "    df_new2 = df_new1[0:10000]\n",
    "\n",
    "    # Create the count matrix using CountVectorizer\n",
    "    count = CountVectorizer(stop_words='english')\n",
    "    count_matrix = count.fit_transform(df_new2['newfeat'])\n",
    "\n",
    "    # Compute Cosine Similarity matrix\n",
    "    cosine_sim2 = cosine_similarity(count_matrix, count_matrix)\n",
    "\n",
    "    df_new1 = df_new1.reset_index()\n",
    "    indices = pd.Series(df_new1.index, index=df_new1['title'])\n",
    "    \n",
    "    return df_new1, cosine_sim2, indices"
   ]
  },
  {
   "cell_type": "code",
   "execution_count": 33,
   "metadata": {},
   "outputs": [],
   "source": [
    "# Main function\n",
    "def content_main_func(dataset, title, boolean_func):\n",
    "    # Case of boolean type is description\n",
    "    if boolean_func == 'description':\n",
    "        new_data, cosine_sim, indices = content_based_tfidf(dataset)\n",
    "        result = recommend_title(title, cosine_sim, indices, new_data)\n",
    "        return result\n",
    "        \n",
    "    # Case of boolean type is category or anything else.\n",
    "    else:\n",
    "        new_data, cosine_sim, indices = content_based_category(dataset)\n",
    "        result = recommend_title(title, cosine_sim, indices, new_data)\n",
    "        return result"
   ]
  },
  {
   "cell_type": "code",
   "execution_count": 34,
   "metadata": {},
   "outputs": [
    {
     "name": "stderr",
     "output_type": "stream",
     "text": [
      "C:\\Users\\User\\AppData\\Local\\Temp/ipykernel_26456/2846461895.py:14: SettingWithCopyWarning: \n",
      "A value is trying to be set on a copy of a slice from a DataFrame.\n",
      "Try using .loc[row_indexer,col_indexer] = value instead\n",
      "\n",
      "See the caveats in the documentation: https://pandas.pydata.org/pandas-docs/stable/user_guide/indexing.html#returning-a-view-versus-a-copy\n",
      "  df_new['description'] = df_new['description'].fillna('')\n"
     ]
    },
    {
     "data": {
      "text/plain": [
       "910                                   The Malliard Report\n",
       "9439                                         Comments on:\n",
       "7675                   Cato Institute Event Videos (Full)\n",
       "1661    The Motivational Marketing Show with Robert Im...\n",
       "9171             RTÉ - Our War - The Great Debate podcast\n",
       "7615                                William Hill Football\n",
       "5865    Clone Wars Roundtable: Information, Commentary...\n",
       "6184    Republic Forces Radio Network -- A Star Wars C...\n",
       "1211                                   Far Far Away Radio\n",
       "5382                                           Drone News\n",
       "Name: title, dtype: object"
      ]
     },
     "execution_count": 34,
     "metadata": {},
     "output_type": "execute_result"
    }
   ],
   "source": [
    "result = content_main_func(df, 'The Kyle Warren Radio Show', 'description')\n",
    "result"
   ]
  },
  {
   "cell_type": "code",
   "execution_count": 35,
   "metadata": {},
   "outputs": [
    {
     "data": {
      "text/plain": [
       "1386     Blubrry Podcasting: Harvey Litt's mycast\n",
       "6822                     Open Spaces (Whole Show)\n",
       "74                         The Robert Wenzel Show\n",
       "3698                               Fox News Flash\n",
       "5134         Resonance: An Anarchist Audio Distro\n",
       "5555            Behind the News with Doug Henwood\n",
       "6947                      The Erick Erickson Show\n",
       "53      Logos Radio Network » Truth Exposed Radio\n",
       "145                                 Bill O'Reilly\n",
       "417                   Bill Moyers in Conversation\n",
       "Name: title, dtype: object"
      ]
     },
     "execution_count": 35,
     "metadata": {},
     "output_type": "execute_result"
    }
   ],
   "source": [
    "result = content_main_func(df, 'The Kyle Warren Radio Show', 'category')\n",
    "result"
   ]
  }
 ],
 "metadata": {
  "kernelspec": {
   "display_name": "Python 3.9.7 ('base')",
   "language": "python",
   "name": "python3"
  },
  "language_info": {
   "codemirror_mode": {
    "name": "ipython",
    "version": 3
   },
   "file_extension": ".py",
   "mimetype": "text/x-python",
   "name": "python",
   "nbconvert_exporter": "python",
   "pygments_lexer": "ipython3",
   "version": "3.9.7"
  },
  "orig_nbformat": 4,
  "vscode": {
   "interpreter": {
    "hash": "f08154012ddadd8e950e6e9e035c7a7b32c136e7647e9b7c77e02eb723a8bedb"
   }
  }
 },
 "nbformat": 4,
 "nbformat_minor": 2
}
